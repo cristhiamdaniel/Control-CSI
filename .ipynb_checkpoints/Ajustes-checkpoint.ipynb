{
 "cells": [
  {
   "cell_type": "code",
   "execution_count": 37,
   "id": "bc6b7db9",
   "metadata": {},
   "outputs": [],
   "source": [
    "import pandas as pd\n",
    "import matplotlib.pyplot as plt\n",
    "import numpy as np\n",
    "\n",
    "# Importamos los datos de Matlab\n",
    "#df = pd.read_csv(\"dataSunset72X.csv\", header=None)\n",
    "df = pd.read_csv(\"./Tex/myFile.txt\", header=None)\n",
    "df.columns = [\"V_pv\",\"I_pv\"]\n",
    "df.insert(2,\"P_pv\",df[\"V_pv\"]*df[\"I_pv\"])\n"
   ]
  },
  {
   "cell_type": "code",
   "execution_count": 52,
   "id": "d397f219",
   "metadata": {},
   "outputs": [],
   "source": [
    "%matplotlib inline"
   ]
  },
  {
   "cell_type": "code",
   "execution_count": 38,
   "id": "2a6634fb",
   "metadata": {},
   "outputs": [
    {
     "name": "stdout",
     "output_type": "stream",
     "text": [
      "37441    True\n",
      "Name: P_pv, dtype: bool\n"
     ]
    }
   ],
   "source": [
    "#MPP\n",
    "df_filtred =df['P_pv']==df['P_pv'].max()\n",
    "positions = np.flatnonzero(df_filtred)\n",
    "filtered_df=df_filtred.iloc[positions]\n",
    "print(filtered_df)"
   ]
  },
  {
   "cell_type": "code",
   "execution_count": 39,
   "id": "3934634e",
   "metadata": {},
   "outputs": [
    {
     "data": {
      "text/plain": [
       "V_pv     37.440000\n",
       "I_pv      8.668400\n",
       "P_pv    324.544896\n",
       "Name: 37441, dtype: float64"
      ]
     },
     "execution_count": 39,
     "metadata": {},
     "output_type": "execute_result"
    }
   ],
   "source": [
    "df.iloc[37441]"
   ]
  },
  {
   "cell_type": "code",
   "execution_count": 40,
   "id": "e93fcb76",
   "metadata": {},
   "outputs": [
    {
     "data": {
      "image/png": "[encoded data removed]",
      "text/plain": [
       "<Figure size 432x288 with 2 Axes>"
      ]
     },
     "metadata": {
      "needs_background": "light"
     },
     "output_type": "display_data"
    }
   ],
   "source": [
    "def curvaCaracteristica():\n",
    "    v = df.V_pv\n",
    "    i = df.I_pv\n",
    "    p = df.P_pv\n",
    "    \n",
    "    fig, ax1 = plt.subplots()\n",
    "    \n",
    "    color = \"tab:red\"\n",
    "    ax1.set_xlabel(\"Tension (V)\")\n",
    "    ax1.set_ylabel(\"Corriente (A)\", color=color)\n",
    "    ax1.plot(v, i, color=color)\n",
    "    ax1.plot(37.44,8.6684, marker=\"o\", color='black')\n",
    "    ax1.tick_params(axis=\"y\", labelcolor=color)\n",
    "    ax1.set_xlim(0,50)\n",
    "    ax1.set_ylim(0,10)\n",
    "    ax2 = ax1.twinx() \n",
    "    \n",
    "    color = \"tab:blue\"\n",
    "    ax2.set_ylabel(\"Potencia (W)\", color=color)  \n",
    "    ax2.plot(v, p, color=color)\n",
    "    ax2.plot(37.44,324.544896, marker=\"o\", color='black')\n",
    "    ax2.tick_params(axis=\"y\", labelcolor=color)\n",
    "    ax2.set_xlim(0,50)\n",
    "    ax2.set_ylim(0,350)\n",
    "    \n",
    "    fig.tight_layout() \n",
    "    plt.grid()\n",
    "    \n",
    "    plt.show()\n",
    "    \n",
    "curvaCaracteristica()"
   ]
  },
  {
   "cell_type": "code",
   "execution_count": 55,
   "id": "b4fe11f7",
   "metadata": {},
   "outputs": [],
   "source": [
    "def adjR(x, y, degree):\n",
    "    results = {}\n",
    "    coeffs = np.polyfit(x, y, degree)\n",
    "    p = np.poly1d(coeffs)\n",
    "    yhat = p(x)\n",
    "    ybar = np.sum(y)/len(y)\n",
    "    ssreg = np.sum((yhat-ybar)**2)\n",
    "    sstot = np.sum((y - ybar)**2)\n",
    "    results['r_squared'] = 1- (((1-(ssreg/sstot))*(len(y)-1))/(len(y)-degree-1))\n",
    "\n",
    "    return results"
   ]
  },
  {
   "cell_type": "code",
   "execution_count": 77,
   "id": "6c6c1e96",
   "metadata": {},
   "outputs": [],
   "source": [
    "df1 = df.iloc[:20000]"
   ]
  },
  {
   "cell_type": "code",
   "execution_count": 78,
   "id": "28d36459",
   "metadata": {},
   "outputs": [
    {
     "name": "stdout",
     "output_type": "stream",
     "text": [
      "{'r_squared': 0.9999511304785941}\n",
      "{'r_squared': 0.9999808226537767}\n"
     ]
    }
   ],
   "source": [
    "v = df1.V_pv\n",
    "i = df1.I_pv\n",
    "print(adjR(v, i, 1))\n",
    "print(adjR(v, i, 2))"
   ]
  },
  {
   "cell_type": "code",
   "execution_count": 79,
   "id": "694253f8",
   "metadata": {},
   "outputs": [
    {
     "name": "stdout",
     "output_type": "stream",
     "text": [
      " \n",
      "-0.001844 x + 9.343\n"
     ]
    }
   ],
   "source": [
    "model = np.poly1d(np.polyfit(v, i, 1))\n",
    "print(model)"
   ]
  },
  {
   "cell_type": "code",
   "execution_count": 110,
   "id": "f9d3cc27",
   "metadata": {},
   "outputs": [],
   "source": [
    "df2 = df.iloc[20000:30000]"
   ]
  },
  {
   "cell_type": "code",
   "execution_count": 111,
   "id": "8d9956c2",
   "metadata": {},
   "outputs": [
    {
     "name": "stdout",
     "output_type": "stream",
     "text": [
      "{'r_squared': 0.9995233388878103}\n",
      "{'r_squared': 0.9999761982595043}\n"
     ]
    }
   ],
   "source": [
    "v = df2.V_pv\n",
    "i = df2.I_pv\n",
    "print(adjR(v, i, 3))\n",
    "print(adjR(v, i, 4))"
   ]
  },
  {
   "cell_type": "code",
   "execution_count": 113,
   "id": "ffeca3da",
   "metadata": {},
   "outputs": [
    {
     "name": "stdout",
     "output_type": "stream",
     "text": [
      "            4             3           2\n",
      "-5.638e-06 x + 0.0005067 x - 0.01718 x + 0.2581 x + 7.867\n"
     ]
    }
   ],
   "source": [
    "model = np.poly1d(np.polyfit(v, i, 4))\n",
    "print(model)"
   ]
  },
  {
   "cell_type": "code",
   "execution_count": 95,
   "id": "d70b47bc",
   "metadata": {},
   "outputs": [],
   "source": [
    "df3 = df.iloc[30000:40000]"
   ]
  },
  {
   "cell_type": "code",
   "execution_count": 96,
   "id": "03bb2266",
   "metadata": {},
   "outputs": [
    {
     "name": "stdout",
     "output_type": "stream",
     "text": [
      "{'r_squared': 0.9997477217461823}\n",
      "{'r_squared': 0.9999995999776015}\n"
     ]
    }
   ],
   "source": [
    "v = df3.V_pv\n",
    "i = df3.I_pv\n",
    "print(adjR(v, i, 3))\n",
    "print(adjR(v, i, 4))"
   ]
  },
  {
   "cell_type": "code",
   "execution_count": 102,
   "id": "07766898",
   "metadata": {},
   "outputs": [
    {
     "name": "stdout",
     "output_type": "stream",
     "text": [
      "           3          2\n",
      "-0.002206 x + 0.2105 x - 6.723 x + 81.08\n"
     ]
    }
   ],
   "source": [
    "model = np.poly1d(np.polyfit(v, i, 3))\n",
    "print(model)"
   ]
  },
  {
   "cell_type": "code",
   "execution_count": 87,
   "id": "c4fbf741",
   "metadata": {},
   "outputs": [],
   "source": [
    "df4 = df.iloc[40000:]"
   ]
  },
  {
   "cell_type": "code",
   "execution_count": 90,
   "id": "cbc175af",
   "metadata": {},
   "outputs": [
    {
     "name": "stdout",
     "output_type": "stream",
     "text": [
      "{'r_squared': 0.9810437175204303}\n",
      "{'r_squared': 0.9999070294512526}\n"
     ]
    }
   ],
   "source": [
    "v = df4.V_pv\n",
    "i = df4.I_pv\n",
    "print(adjR(v, i, 1))\n",
    "print(adjR(v, i, 2))"
   ]
  },
  {
   "cell_type": "code",
   "execution_count": 91,
   "id": "ac6e8cdb",
   "metadata": {},
   "outputs": [
    {
     "name": "stdout",
     "output_type": "stream",
     "text": [
      "          2\n",
      "-0.06589 x + 4.703 x - 74.86\n"
     ]
    }
   ],
   "source": [
    "model = np.poly1d(np.polyfit(v, i, 2))\n",
    "print(model)"
   ]
  },
  {
   "cell_type": "code",
   "execution_count": 114,
   "id": "66f3f400",
   "metadata": {},
   "outputs": [],
   "source": [
    "def f1(x):\n",
    "    return -0.001844*x + 9.343\n",
    "\n",
    "def f2(x):\n",
    "    return -5.638e-06*x**4 + 0.0005067*x**3 - 0.01718*x**2 + 0.2581*x + 7.867\n",
    "\n",
    "def f3(x):\n",
    "    return -0.002206*x**3 + 0.2105*x**2 - 6.723*x + 81.08\n",
    "\n",
    "def f4(x):\n",
    "    return -0.06589*x**2 + 4.703*x - 74.86"
   ]
  },
  {
   "cell_type": "code",
   "execution_count": 115,
   "id": "161ccd5f",
   "metadata": {},
   "outputs": [
    {
     "data": {
      "image/png": "[encoded data removed]",
      "text/plain": [
       "<Figure size 432x288 with 1 Axes>"
      ]
     },
     "metadata": {
      "needs_background": "light"
     },
     "output_type": "display_data"
    }
   ],
   "source": [
    "x = np.linspace(0, 50, 1000)\n",
    "y = np.piecewise(x, [ (x <= 20) & (x >= 0), (x <= 30) & (x > 20),(x <= 40) & (x > 30), (x <= 50) & (x > 40)], [lambda x: f1(x), lambda x: f2(x),\n",
    "lambda x: f3(x), lambda x: f4(x)])\n",
    "plt.plot(x, y)\n",
    "#plt.plot(df.V_pv,df.I_pv)\n",
    "plt.grid()\n",
    "plt.show()"
   ]
  },
  {
   "cell_type": "code",
   "execution_count": 105,
   "id": "78f1009f",
   "metadata": {},
   "outputs": [
    {
     "name": "stdout",
     "output_type": "stream",
     "text": [
      "8.66548234649595\n"
     ]
    }
   ],
   "source": [
    "print(f3(37.44))"
   ]
  },
  {
   "cell_type": "code",
   "execution_count": 116,
   "id": "19d39170",
   "metadata": {},
   "outputs": [],
   "source": [
    "def p3(x):\n",
    "    return (-0.002206*x**3 + 0.2105*x**2 - 6.723*x + 81.08)*x"
   ]
  },
  {
   "cell_type": "code",
   "execution_count": 117,
   "id": "818c2731",
   "metadata": {},
   "outputs": [
    {
     "name": "stdout",
     "output_type": "stream",
     "text": [
      "324.4356590528083\n"
     ]
    }
   ],
   "source": [
    "print(p3(37.44))"
   ]
  }
 ],
 "metadata": {
  "kernelspec": {
   "display_name": "Python 3 (ipykernel)",
   "language": "python",
   "name": "python3"
  },
  "language_info": {
   "codemirror_mode": {
    "name": "ipython",
    "version": 3
   },
   "file_extension": ".py",
   "mimetype": "text/x-python",
   "name": "python",
   "nbconvert_exporter": "python",
   "pygments_lexer": "ipython3",
   "version": "3.9.12"
  }
 },
 "nbformat": 4,
 "nbformat_minor": 5
}

{
 "cells": [
  {
   "cell_type": "code",
   "execution_count": 100,
   "id": "bc6b7db9",
   "metadata": {},
   "outputs": [],
   "source": [
    "import pandas as pd\n",
    "import matplotlib.pyplot as plt\n",
    "import numpy as np\n",
    "\n",
    "# Importamos los datos:\n",
    "path = \"./Data/outputPV.txt\"\n",
    "df = pd.read_csv(path, header=None)\n",
    "df.columns = [\"V_pv\",\"I_pv\"]\n",
    "df.insert(2,\"P_pv\",df[\"V_pv\"]*df[\"I_pv\"])\n"
   ]
  },
  {
   "cell_type": "code",
   "execution_count": 2,
   "id": "2a6634fb",
   "metadata": {},
   "outputs": [
    {
     "name": "stdout",
     "output_type": "stream",
     "text": [
      "          V_pv    I_pv        P_pv\n",
      "149755  149.76  25.944  3885.37344\n"
     ]
    }
   ],
   "source": [
    "# Puntos de maxima potencia\n",
    "def PMM():\n",
    "    df_mask = df['P_pv']==df['P_pv'].max()\n",
    "    filtered_df = df[df_mask]\n",
    "    return filtered_df\n",
    "\n",
    "pmm = PMM()\n",
    "print(pmm)"
   ]
  },
  {
   "cell_type": "code",
   "execution_count": 101,
   "id": "7ae54f33",
   "metadata": {},
   "outputs": [],
   "source": [
    "# Funcion para obtener el indice del PMM\n",
    "def index_pmm():\n",
    "    pmm = PMM()\n",
    "    index = pmm.index.values[0]\n",
    "    return index"
   ]
  },
  {
   "cell_type": "code",
   "execution_count": 103,
   "id": "30c91604",
   "metadata": {},
   "outputs": [],
   "source": [
    "# funcion para calcular el modelo de la curva ajustada\n",
    "def model(x,y,degree):\n",
    "    model = np.poly1d(np.polyfit(x, y, degree))\n",
    "    return model"
   ]
  },
  {
   "cell_type": "code",
   "execution_count": 107,
   "id": "763eb133",
   "metadata": {},
   "outputs": [],
   "source": [
    "# Funcion para calcular el R-cuadrado ajustado\n",
    "def adjR(x, y, degree):\n",
    "    results = {}\n",
    "    coeffs = np.polyfit(x, y, degree)\n",
    "    p = np.poly1d(coeffs)\n",
    "    yhat = p(x)\n",
    "    ybar = np.sum(y)/len(y)\n",
    "    ssreg = np.sum((yhat-ybar)**2)\n",
    "    sstot = np.sum((y - ybar)**2)\n",
    "    results['r_squared'] = 1- (((1-(ssreg/sstot))*(len(y)-1))/(len(y)-degree-1))\n",
    "\n",
    "    return results"
   ]
  },
  {
   "cell_type": "code",
   "execution_count": 108,
   "id": "c2728f82",
   "metadata": {},
   "outputs": [],
   "source": [
    "i = index_pmm()\n",
    "\n",
    "rangos = [10, 20, 30, 40, 50]\n",
    "grados = [3,5,7]\n",
    "model1 = []\n",
    "model2 = []\n",
    "r2_1 = []\n",
    "r2_2 = []"
   ]
  },
  {
   "cell_type": "code",
   "execution_count": 109,
   "id": "d9e2c891",
   "metadata": {},
   "outputs": [],
   "source": [
    "for g in grados:\n",
    "    for r in rangos:   \n",
    "        df1 = df.iloc[:i+r]\n",
    "        df2 = df.iloc[i-r:]\n",
    "        \n",
    "        v1 = df1.V_pv\n",
    "        p1 = df1.P_pv\n",
    "        v2 = df2.V_pv\n",
    "        p2 = df2.P_pv\n",
    "           \n",
    "        m1 = model(v1,p1,g)\n",
    "        m2 = model(v2,p2,g)\n",
    "            \n",
    "        model1.append(m1)\n",
    "        model2.append(m2)\n",
    "        \n",
    "        ad1 = adjR(v1, p1, g)\n",
    "        ad2 = adjR(v2, p2, g)\n",
    "        \n",
    "        r2_1.append(ad1)\n",
    "        r2_2.append(ad2)"
   ]
  },
  {
   "cell_type": "code",
   "execution_count": 156,
   "id": "29d51456",
   "metadata": {},
   "outputs": [],
   "source": [
    "def p1_1(x):\n",
    "    return -0.0003277*x**3 + 0.05629*x**2 + 25.34*x + 25.09\n",
    "def p1_2(x):\n",
    "    return -0.0003279*x**3 + 0.05635*x**2 + 25.34*x + 25.11\n",
    "def p1_3(x):\n",
    "    return -0.0003282*x**3 + 0.0564*x**2 + 25.33*x + 25.14\n",
    "def p1_4(x):\n",
    "    return -0.0003285*x**3 + 0.05645*x**2 + 25.33*x + 25.16\n",
    "def p1_5(x):\n",
    "    return -0.0003287*x**3 + 0.0565*x**2 + 25.33*x + 25.19\n",
    "def p1_6(x):\n",
    "    return -9.224e-08*x**5 + 2.863e-05*x**4 - 0.003155*x**3 + 0.1441*x**2 + 25.48*x + 10.2\n",
    "def p1_7(x):\n",
    "    return -9.23e-08*x**5 + 2.865e-05*x**4 - 0.003158*x**3 + 0.144*x**2 + 25.48*x + 10.21\n",
    "def p1_8(x):\n",
    "    return -9.237e-08*x**5 + 2.867e-05*x**4 - 0.003161*x**3 + 0.1444*x**2 + 25.48*x + 10.22\n",
    "def p1_9(x):\n",
    "    return -9.243e-08*x**5 + 2.869e-05*x**4 - 0.003163*x**3 + 0.1445*x**2 + 25.48*x + 10.23\n",
    "def p1_10(x):\n",
    "    return -9.25e-08*x**5 + 2.871e-05*x**4 - 0.003166 *x**3 + 0.1446*x**2 + 25.47*x + 10.24\n",
    "def p1_11(x):\n",
    "    return -1.481e-11*x**7 + 6.51e-09*x**6 - 1.139e-06*x**5 + 0.0001002*x**4 - 0.004614*x**3  + 0.1031*x**2 + 27.05*x + 2.176\n",
    "def p1_12(x):\n",
    "    return -1.482e-11*x**7 + 6.514e-09*x**6- 1.14e-06*x**5 + 0.0001002*x**4 - 0.004618*x**3  + 0.1032*x**2 + 27.05*x + 2.178\n",
    "def p1_13(x):\n",
    "    return -1.483e-11*x**7 + 6.518e-09*x**6 - 1.14e-06*x**5 + 0.0001003*x**4 - 0.004621*x**3 + 0.1033*x**2 + 27.05 *x + 2.18\n",
    "def p1_14(x):\n",
    "    return -1.484e-11*x**7 + 6.522e-09*x**6 - 1.141e-06*x**5 + 0.0001004*x**4 - 0.004625*x**3  + 0.1034*x**2 + 27.05*x + 2.182\n",
    "def p1_15(x):\n",
    "    return -1.484e-11*x**7 + 6.526e-09*x**6 - 1.142e-06*x**5 + 0.0001005*x**4 - 0.004628*x**3  + 0.1035*x**2 + 27.05*x + 2.185\n"
   ]
  },
  {
   "cell_type": "code",
   "execution_count": 151,
   "id": "486beec1",
   "metadata": {},
   "outputs": [],
   "source": [
    "pmm = 3885.37344\n",
    "vmm = 149.76\n",
    "\n",
    "def error(a):\n",
    "    return round(((abs(a - pmm))/pmm)*100,2)"
   ]
  },
  {
   "cell_type": "code",
   "execution_count": 168,
   "id": "67fc2fd6",
   "metadata": {},
   "outputs": [
    {
     "name": "stdout",
     "output_type": "stream",
     "text": [
      "2.48\n",
      "2.5\n",
      "2.46\n",
      "2.47\n",
      "2.48\n",
      "0.73\n",
      "0.55\n",
      "0.65\n",
      "0.68\n",
      "0.56\n",
      "0.09\n",
      "1.41\n",
      "0.41\n",
      "0.2\n",
      "0.52\n"
     ]
    }
   ],
   "source": [
    "print(error(p1_1(vmm)))\n",
    "print(error(p1_2(vmm)))\n",
    "print(error(p1_3(vmm)))\n",
    "print(error(p1_4(vmm)))\n",
    "print(error(p1_5(vmm)))\n",
    "print(error(p1_6(vmm)))\n",
    "print(error(p1_7(vmm)))\n",
    "print(error(p1_8(vmm)))\n",
    "print(error(p1_9(vmm)))\n",
    "print(error(p1_10(vmm)))\n",
    "print(error(p1_11(vmm)))\n",
    "print(error(p1_12(vmm)))\n",
    "print(error(p1_13(vmm)))\n",
    "print(error(p1_14(vmm)))\n",
    "print(error(p1_15(vmm)))"
   ]
  },
  {
   "cell_type": "code",
   "execution_count": 180,
   "id": "32d769a1",
   "metadata": {},
   "outputs": [
    {
     "data": {
      "text/plain": [
       "3888.9130015654932"
      ]
     },
     "execution_count": 180,
     "metadata": {},
     "output_type": "execute_result"
    }
   ],
   "source": [
    "p1_11(vmm)"
   ]
  },
  {
   "cell_type": "code",
   "execution_count": 170,
   "id": "8547c56b",
   "metadata": {},
   "outputs": [],
   "source": [
    "def p2_1(x):\n",
    "    return -0.005694*x**3 - 0.04569*x**2 + 412.8*x - 3.782e+04\n",
    "def p2_2(x):\n",
    "    return -0.005703*x**3 - 0.04091*x**2 + 411.9 *x - 3.777e+04\n",
    "def p2_3(x):\n",
    "    return -0.005712*x**3 - 0.03614*x**2 + 411.1 *x - 3.772e+04\n",
    "def p2_4(x):\n",
    "    return -0.005721*x**3 - 0.03136 *x**2 + 410.2 *x - 3.767e+04\n",
    "def p2_5(x):\n",
    "    return -0.00573*x**3 - 0.02659 *x**2 + 409.4 *x - 3.762e+04\n",
    "def p2_6(x):\n",
    "    return -4.23e-06*x**5 + 0.004113*x**4 - 1.586 *x**3 + 300.3 *x**2 - 2.787e+04 *x + 1.018e+06\n",
    "def p2_7(x):\n",
    "    return -4.226e-06*x**5 + 0.004109*x**4 - 1.585 *x**3 + 300.1 *x**2 - 2.785e+04 *x + 1.018e+06\n",
    "def p2_8(x):\n",
    "    return -4.222e-06*x**5 + 0.004105*x**4 - 1.583 *x**3 + 299.9 *x**2 - 2.783e+04 *x + 1.017e+06\n",
    "def p2_9(x):\n",
    "    return -4.218e-06*x**5 + 0.004101*x**4 - 1.582 *x**3 + 299.6 *x**2- 2.781e+04 *x + 1.016e+06\n",
    "def p2_10(x):\n",
    "    return -4.213e-06*x**5 + 0.004098 *x**4- 1.581 *x**3 + 299.4 *x**2 - 2.779e+04 *x + 1.015e+06\n",
    "def p2_11(x):\n",
    "    return 3.314e-09*x**7 - 4.157e-06*x**6 + 0.002226*x**5 - 0.6593*x**4 + 116.6 *x**3 - 1.23e+04 *x**2 + 7.167e+05 *x - 1.781e+07\n",
    "def p2_12(x):\n",
    "    return 3.313e-09*x**7 - 4.156e-06*x**6 + 0.002226 *x**5 - 0.6591*x**4 + 116.5 *x**3 - 1.229e+04 *x**2 + 7.165e+05 *x - 1.78e+07\n",
    "def p2_13(x):\n",
    "    return 3.312e-09*x**7 - 4.155e-06*x**6 + 0.002225 *x**5- 0.6589 *x**4 + 116.5 *x**3 - 1.229e+04 *x**2 + 7.163e+05 *x - 1.779e+07\n",
    "def p2_14(x):\n",
    "    return 3.311e-09*x**7 - 4.154e-06*x**6 + 0.002224 *x**5 - 0.6587 *x**4 + 116.5 *x**3 - 1.229e+04 *x**2 + 7.161e+05 *x - 1.779e+07\n",
    "def p2_15(x):\n",
    "    return 3.31e-09*x**7 - 4.152e-06*x**6 + 0.002224 *x**5 - 0.6585 *x**4 + 116.4 *x**3 - 1.228e+04 *x**2 + 7.159e+05 *x - 1.778e+07"
   ]
  },
  {
   "cell_type": "code",
   "execution_count": 171,
   "id": "e0024241",
   "metadata": {},
   "outputs": [
    {
     "name": "stdout",
     "output_type": "stream",
     "text": [
      "0.88\n",
      "1.08\n",
      "0.91\n",
      "1.11\n",
      "0.93\n",
      "35.8\n",
      "31.74\n",
      "33.03\n",
      "46.37\n",
      "53.17\n",
      "1118.97\n",
      "569.26\n",
      "953.05\n",
      "1079.47\n",
      "820.12\n"
     ]
    }
   ],
   "source": [
    "print(error(p2_1(vmm)))\n",
    "print(error(p2_2(vmm)))\n",
    "print(error(p2_3(vmm)))\n",
    "print(error(p2_4(vmm)))\n",
    "print(error(p2_5(vmm)))\n",
    "print(error(p2_6(vmm)))\n",
    "print(error(p2_7(vmm)))\n",
    "print(error(p2_8(vmm)))\n",
    "print(error(p2_9(vmm)))\n",
    "print(error(p2_10(vmm)))\n",
    "print(error(p2_11(vmm)))\n",
    "print(error(p2_12(vmm)))\n",
    "print(error(p2_13(vmm)))\n",
    "print(error(p2_14(vmm)))\n",
    "print(error(p2_15(vmm)))"
   ]
  },
  {
   "cell_type": "code",
   "execution_count": 181,
   "id": "cb6d1262",
   "metadata": {},
   "outputs": [
    {
     "data": {
      "text/plain": [
       "3851.0353384898626"
      ]
     },
     "execution_count": 181,
     "metadata": {},
     "output_type": "execute_result"
    }
   ],
   "source": [
    "p2_1(vmm)"
   ]
  },
  {
   "cell_type": "code",
   "execution_count": 188,
   "id": "cfd747c2",
   "metadata": {},
   "outputs": [
    {
     "data": {
      "image/png": "[encoded data removed]",
      "text/plain": [
       "<Figure size 432x288 with 1 Axes>"
      ]
     },
     "metadata": {
      "needs_background": "light"
     },
     "output_type": "display_data"
    }
   ],
   "source": [
    "x = np.linspace(0, 200)\n",
    "y = np.piecewise(x, [ (x <= 149.76) & (x >= 0), (x <= 200) & (x > 149.76)], [lambda x: p1_11(x), lambda x: p2_1(x)])\n",
    "plt.plot(x, y, \"b-\")\n",
    "\n",
    "plt.plot(df.V_pv,df.P_pv,\"r--\")\n",
    "plt.ylim(0,4000)\n",
    "plt.grid()\n",
    "plt.show()"
   ]
  },
  {
   "cell_type": "code",
   "execution_count": 3,
   "id": "dc1b5ccc",
   "metadata": {},
   "outputs": [
    {
     "data": {
      "image/png": "[encoded data removed]",
      "text/plain": [
       "<Figure size 432x288 with 2 Axes>"
      ]
     },
     "metadata": {
      "needs_background": "light"
     },
     "output_type": "display_data"
    }
   ],
   "source": [
    "# Grafica Curvas caracteristicas\n",
    "def curvaCaracteristica():\n",
    "    global vpp, ipp, ppp\n",
    "    v = df.V_pv\n",
    "    i = df.I_pv\n",
    "    p = df.P_pv\n",
    "    vpp = pmm['V_pv']\n",
    "    ipp = pmm['I_pv']\n",
    "    ppp = pmm['P_pv']\n",
    "    \n",
    "    fig, ax1 = plt.subplots()\n",
    "    \n",
    "    color = \"tab:red\"\n",
    "    ax1.set_xlabel(\"Tension (V)\")\n",
    "    ax1.set_ylabel(\"Corriente (A)\", color=color)\n",
    "    ax1.plot(v, i, color=color)\n",
    "    ax1.plot(vpp, ipp, marker=\"o\", color=\"black\")\n",
    "    ax1.tick_params(axis=\"y\", labelcolor=color)\n",
    "    ax1.set_xlim(0,200)\n",
    "    ax1.set_ylim(0,40)\n",
    "    ax2 = ax1.twinx() \n",
    "    \n",
    "    color = \"tab:blue\"\n",
    "    ax2.set_ylabel(\"Potencia (W)\", color=color)  \n",
    "    ax2.plot(v, p, color=color)\n",
    "    ax2.plot(vpp, ppp, marker=\"o\", color=\"black\")\n",
    "    ax2.tick_params(axis=\"y\", labelcolor=color)\n",
    "    ax2.set_xlim(0,200)\n",
    "    ax2.set_ylim(0,4000)\n",
    "    \n",
    "    fig.tight_layout() \n",
    "    plt.grid()\n",
    "  \n",
    "    plt.show()\n",
    "\n",
    "curvaCaracteristica()"
   ]
  },
  {
   "cell_type": "code",
   "execution_count": 4,
   "id": "b4fe11f7",
   "metadata": {},
   "outputs": [],
   "source": [
    "# R cuadrado ajustado\n",
    "def adjR(x, y, degree):\n",
    "    results = {}\n",
    "    coeffs = np.polyfit(x, y, degree)\n",
    "    p = np.poly1d(coeffs)\n",
    "    yhat = p(x)\n",
    "    ybar = np.sum(y)/len(y)\n",
    "    ssreg = np.sum((yhat-ybar)**2)\n",
    "    sstot = np.sum((y - ybar)**2)\n",
    "    results['r_squared'] = 1- (((1-(ssreg/sstot))*(len(y)-1))/(len(y)-degree-1))\n",
    "\n",
    "    return results"
   ]
  },
  {
   "cell_type": "code",
   "execution_count": 5,
   "id": "b21b7cc7",
   "metadata": {},
   "outputs": [],
   "source": [
    "def curvasAjuste(x,y,a,b,degree):\n",
    "    #fit polynomial models \n",
    "    model = np.poly1d(np.polyfit(x,y, degree))\n",
    "           \n",
    "    #create scatterplot\n",
    "    polyline = np.linspace(a,b, 1000)\n",
    "    plt.scatter(x, y)\n",
    "    \n",
    "    #add fitted polynomial lines to scatterplot \n",
    "    plt.plot(polyline, model(polyline), color='green', label= f'Funcion grado {degree}')\n",
    "      \n",
    "    \n",
    "    plt.legend()\n",
    "    plt.grid()\n",
    "    plt.show()"
   ]
  },
  {
   "cell_type": "markdown",
   "id": "fc35809f",
   "metadata": {},
   "source": [
    "# Potencia"
   ]
  },
  {
   "cell_type": "code",
   "execution_count": 85,
   "id": "6bdd9c77",
   "metadata": {},
   "outputs": [
    {
     "name": "stdout",
     "output_type": "stream",
     "text": [
      "{'r_squared': 0.9999049853367739}\n"
     ]
    }
   ],
   "source": [
    "df1 = df.iloc[:149755+10*1000]\n",
    "v = df1.V_pv\n",
    "p = df1.P_pv\n",
    "print(adjR(v, p, 5))"
   ]
  },
  {
   "cell_type": "code",
   "execution_count": 86,
   "id": "b7ee23ed",
   "metadata": {},
   "outputs": [
    {
     "data": {
      "image/png": "[encoded data removed]",
      "text/plain": [
       "<Figure size 432x288 with 1 Axes>"
      ]
     },
     "metadata": {
      "needs_background": "light"
     },
     "output_type": "display_data"
    }
   ],
   "source": [
    "def curvasAjuste():\n",
    "    #fit polynomial models \n",
    "    model = np.poly1d(np.polyfit(v, p, 5))\n",
    "        \n",
    "    #create scatterplot\n",
    "    polyline = np.linspace(0, 149.76+10)\n",
    "    plt.scatter(v, p)\n",
    "    \n",
    "    #add fitted polynomial lines to scatterplot \n",
    "    plt.plot(polyline, model(polyline), color='green', label= 'Funcion grado 3')\n",
    "    \n",
    "    \n",
    "    plt.legend()\n",
    "    plt.grid()\n",
    "    plt.show()\n",
    "\n",
    "curvasAjuste()"
   ]
  },
  {
   "cell_type": "code",
   "execution_count": 88,
   "id": "116098b3",
   "metadata": {},
   "outputs": [
    {
     "name": "stdout",
     "output_type": "stream",
     "text": [
      "            5             4            3          2\n",
      "-1.763e-07 x + 5.828e-05 x - 0.006836 x + 0.3346 x + 21.79 x + 26.61\n"
     ]
    }
   ],
   "source": [
    "model = np.poly1d(np.polyfit(v, p, 5))\n",
    "print(model)"
   ]
  },
  {
   "cell_type": "code",
   "execution_count": 89,
   "id": "6bcfb20b",
   "metadata": {},
   "outputs": [],
   "source": [
    "def p1(x):\n",
    "    #return -0.001414*x**3 + 0.2821*x**2 + 13.16*x + 156.6\n",
    "    #return -0.0007174*x**3 + 0.1341*x**2 + 21.31*x + 66.85\n",
    "    return -1.763e-07*x**5 + 5.828e-05*x**4 - 0.006836*x**3 + 0.3346*x**2 + 21.79*x + 26.61"
   ]
  },
  {
   "cell_type": "code",
   "execution_count": 90,
   "id": "caf0e2c3",
   "metadata": {},
   "outputs": [
    {
     "data": {
      "text/plain": [
       "3868.2289011415587"
      ]
     },
     "execution_count": 90,
     "metadata": {},
     "output_type": "execute_result"
    }
   ],
   "source": [
    "p1(149.76)"
   ]
  },
  {
   "cell_type": "code",
   "execution_count": 91,
   "id": "5d4125e8",
   "metadata": {},
   "outputs": [
    {
     "data": {
      "text/plain": [
       "0.4432141762185166"
      ]
     },
     "execution_count": 91,
     "metadata": {},
     "output_type": "execute_result"
    }
   ],
   "source": [
    "abs(((3885.37344 - p1(149.76))/p1(149.76))*100)"
   ]
  },
  {
   "cell_type": "code",
   "execution_count": 93,
   "id": "53dfe64c",
   "metadata": {},
   "outputs": [
    {
     "name": "stdout",
     "output_type": "stream",
     "text": [
      "{'r_squared': 0.9995660900455904}\n"
     ]
    }
   ],
   "source": [
    "df2 = df.iloc[149755-30*1000:]\n",
    "v = df2.V_pv\n",
    "p = df2.P_pv\n",
    "print(adjR(v, p, 3))"
   ]
  },
  {
   "cell_type": "code",
   "execution_count": 94,
   "id": "354c804f",
   "metadata": {},
   "outputs": [
    {
     "data": {
      "image/png": "[encoded data removed]",
      "text/plain": [
       "<Figure size 432x288 with 1 Axes>"
      ]
     },
     "metadata": {
      "needs_background": "light"
     },
     "output_type": "display_data"
    }
   ],
   "source": [
    "def curvasAjuste():\n",
    "    #fit polynomial models \n",
    "    model = np.poly1d(np.polyfit(v, p, 3))\n",
    "        \n",
    "    #create scatterplot\n",
    "    polyline = np.linspace(149.76-30,200)\n",
    "    plt.scatter(v, p)\n",
    "    \n",
    "    #add fitted polynomial lines to scatterplot \n",
    "    plt.plot(polyline, model(polyline), color='green', label= 'Funcion grado 3')\n",
    "    \n",
    "    \n",
    "    plt.legend()\n",
    "    plt.grid()\n",
    "    plt.show()\n",
    "\n",
    "curvasAjuste()"
   ]
  },
  {
   "cell_type": "code",
   "execution_count": 95,
   "id": "3af5a361",
   "metadata": {},
   "outputs": [
    {
     "name": "stdout",
     "output_type": "stream",
     "text": [
      "          3         2\n",
      "-0.02142 x + 8.157 x - 1007 x + 4.364e+04\n"
     ]
    }
   ],
   "source": [
    "model = np.poly1d(np.polyfit(v, p, 3))\n",
    "print(model)"
   ]
  },
  {
   "cell_type": "code",
   "execution_count": 96,
   "id": "90069a61",
   "metadata": {},
   "outputs": [],
   "source": [
    "def p2(x):\n",
    "    return -0.02142*x**3 + 8.157*x**2 - 1007*x + 4.364e+04\n",
    "    #return -0.01926*x**3 + 7.065*x**2 - 824.4*x + 3.359e+04\n",
    "    #return -0.01389*x**3 + 4.29*x**2 - 349.1*x + 6619"
   ]
  },
  {
   "cell_type": "code",
   "execution_count": 97,
   "id": "b05ea925",
   "metadata": {},
   "outputs": [
    {
     "data": {
      "text/plain": [
       "3831.294932910081"
      ]
     },
     "execution_count": 97,
     "metadata": {},
     "output_type": "execute_result"
    }
   ],
   "source": [
    "p2(149.76)"
   ]
  },
  {
   "cell_type": "code",
   "execution_count": 98,
   "id": "921dad9e",
   "metadata": {},
   "outputs": [
    {
     "data": {
      "text/plain": [
       "1.4114942346357842"
      ]
     },
     "execution_count": 98,
     "metadata": {},
     "output_type": "execute_result"
    }
   ],
   "source": [
    "abs(((3885.37344 - p2(149.76))/p2(149.76))*100)"
   ]
  },
  {
   "cell_type": "code",
   "execution_count": 99,
   "id": "cf8a05ea",
   "metadata": {},
   "outputs": [
    {
     "data": {
      "image/png": "[encoded data removed]",
      "text/plain": [
       "<Figure size 432x288 with 1 Axes>"
      ]
     },
     "metadata": {
      "needs_background": "light"
     },
     "output_type": "display_data"
    }
   ],
   "source": [
    "x = np.linspace(0, 200)\n",
    "y = np.piecewise(x, [ (x <= 149.76) & (x >= 0), (x <= 200) & (x > 149.76)], [lambda x: p1(x), lambda x: p2(x)])\n",
    "plt.plot(x, y)\n",
    "\n",
    "#plt.plot(df.V_pv,df.P_pv, style='--')\n",
    "plt.ylim(0,4000)\n",
    "plt.grid()\n",
    "plt.show()"
   ]
  },
  {
   "cell_type": "code",
   "execution_count": 130,
   "id": "e27363c8",
   "metadata": {},
   "outputs": [
    {
     "name": "stdout",
     "output_type": "stream",
     "text": [
      "3882.1896447999898\n"
     ]
    }
   ],
   "source": [
    "print(p4(149.76))"
   ]
  },
  {
   "cell_type": "code",
   "execution_count": null,
   "id": "7589bcc0",
   "metadata": {},
   "outputs": [],
   "source": []
  },
  {
   "cell_type": "code",
   "execution_count": null,
   "id": "44ffebed",
   "metadata": {},
   "outputs": [],
   "source": []
  },
  {
   "cell_type": "code",
   "execution_count": null,
   "id": "b5a8bdd8",
   "metadata": {},
   "outputs": [],
   "source": []
  },
  {
   "cell_type": "code",
   "execution_count": 74,
   "id": "0602bd15",
   "metadata": {},
   "outputs": [
    {
     "name": "stdout",
     "output_type": "stream",
     "text": [
      "            5            4            3         2\n",
      "-9.217e-08 x + 2.86e-05 x - 0.003153 x + 0.144 x + 25.49 x + 10.19\n"
     ]
    }
   ],
   "source": [
    "model5 = np.poly1d(np.polyfit(df1.V_pv, df1.P_pv, 5))\n",
    "print(model5)"
   ]
  },
  {
   "cell_type": "code",
   "execution_count": 66,
   "id": "6201fe58",
   "metadata": {},
   "outputs": [
    {
     "data": {
      "image/png": "[encoded data removed]",
      "text/plain": [
       "<Figure size 432x288 with 1 Axes>"
      ]
     },
     "metadata": {
      "needs_background": "light"
     },
     "output_type": "display_data"
    }
   ],
   "source": [
    "df1 = df.iloc[149755:]\n",
    "def curvasAjuste():\n",
    "    #fit polynomial models up to degree 5\n",
    "    model1 = np.poly1d(np.polyfit(df1.V_pv, df1.P_pv, 1))\n",
    "    model2 = np.poly1d(np.polyfit(df1.V_pv, df1.P_pv, 2))\n",
    "    model3 = np.poly1d(np.polyfit(df1.V_pv, df1.P_pv, 3))\n",
    "    model4 = np.poly1d(np.polyfit(df1.V_pv, df1.P_pv, 4))\n",
    "    model5 = np.poly1d(np.polyfit(df1.V_pv, df1.P_pv, 5))\n",
    "    \n",
    "    \n",
    "    #create scatterplot\n",
    "    polyline = np.linspace(149.76, 200, 1000)\n",
    "    plt.scatter(df1.V_pv, df1.P_pv)\n",
    "    \n",
    "    #add fitted polynomial lines to scatterplot \n",
    "    plt.plot(polyline, model1(polyline), color='green', label= 'Funcion grado 1')\n",
    "    plt.plot(polyline, model2(polyline), color='red', label= 'Funcion grado 2')\n",
    "    plt.plot(polyline, model3(polyline), color='purple', label= 'Funcion grado 3')\n",
    "    plt.plot(polyline, model4(polyline), color='blue', label= 'Funcion grado 4')\n",
    "    plt.plot(polyline, model5(polyline), color='orange', label= 'Funcion grado 5')\n",
    "    \n",
    "    plt.legend()\n",
    "    plt.grid()\n",
    "    #plt.savefig(\"./imagenes/curvaajuste.png\")\n",
    "    plt.show()\n",
    "\n",
    "curvasAjuste()"
   ]
  },
  {
   "cell_type": "code",
   "execution_count": 67,
   "id": "dfca651b",
   "metadata": {},
   "outputs": [
    {
     "name": "stdout",
     "output_type": "stream",
     "text": [
      "            5            4         3         2\n",
      "-4.235e-06 x + 0.004116 x - 1.587 x + 300.6 x - 2.789e+04 x + 1.019e+06\n"
     ]
    }
   ],
   "source": [
    "model5 = np.poly1d(np.polyfit(df1.V_pv, df1.P_pv, 5))\n",
    "print(model5)"
   ]
  },
  {
   "cell_type": "code",
   "execution_count": 69,
   "id": "b6bd3d42",
   "metadata": {},
   "outputs": [],
   "source": [
    "def p1(x):\n",
    "    return -9.217e-08*x**5 + 2.86e-05*x**4 - 0.003153*x**3 + 0.144*x**2 + 25.49*x + 10.19\n",
    "def p2(x):\n",
    "    return -4.235e-06*x**5 + 0.004116*x**4 - 1.587*x**3 + 300.6*x**2 - 2.789e+04*x + 1.019e+06"
   ]
  },
  {
   "cell_type": "code",
   "execution_count": 75,
   "id": "a64a772e",
   "metadata": {},
   "outputs": [
    {
     "data": {
      "image/png": "[encoded data removed]",
      "text/plain": [
       "<Figure size 432x288 with 1 Axes>"
      ]
     },
     "metadata": {
      "needs_background": "light"
     },
     "output_type": "display_data"
    }
   ],
   "source": [
    "x = np.linspace(0, 200, 1000)\n",
    "y = np.piecewise(x, [ (x <= 149.76) & (x >= 0), (x <= 200) & (x > 149.76)], [lambda x: p1(x), lambda x: p2(x)])\n",
    "plt.plot(x, y)\n",
    "#plt.plot(df.V_pv,df.I_pv)\n",
    "plt.grid()\n",
    "plt.show()"
   ]
  },
  {
   "cell_type": "markdown",
   "id": "650593e9",
   "metadata": {},
   "source": [
    "# Modelo I(v)"
   ]
  },
  {
   "cell_type": "markdown",
   "id": "8e4afb74",
   "metadata": {},
   "source": [
    "## Trozo 1"
   ]
  },
  {
   "cell_type": "code",
   "execution_count": 8,
   "id": "6c6c1e96",
   "metadata": {},
   "outputs": [
    {
     "name": "stdout",
     "output_type": "stream",
     "text": [
      "{'r_squared': 0.999061975995626}\n",
      "{'r_squared': 0.9996410186558825}\n"
     ]
    }
   ],
   "source": [
    "df1 = df.iloc[:100*1000]\n",
    "v = df1.V_pv\n",
    "i = df1.I_pv\n",
    "print(adjR(v, i, 1))\n",
    "print(adjR(v, i, 2))"
   ]
  },
  {
   "cell_type": "code",
   "execution_count": 9,
   "id": "d329a45a",
   "metadata": {},
   "outputs": [
    {
     "data": {
      "image/png": "[encoded data removed]",
      "text/plain": [
       "<Figure size 432x288 with 1 Axes>"
      ]
     },
     "metadata": {
      "needs_background": "light"
     },
     "output_type": "display_data"
    }
   ],
   "source": [
    "def curvasAjuste():\n",
    "    #fit polynomial models \n",
    "    model1 = np.poly1d(np.polyfit(df1.V_pv, df1.I_pv, 1))\n",
    "    model2 = np.poly1d(np.polyfit(df1.V_pv, df1.I_pv, 2))\n",
    "        \n",
    "    #create scatterplot\n",
    "    polyline = np.linspace(0, 100, 1000)\n",
    "    plt.scatter(df1.V_pv, df1.I_pv)\n",
    "    \n",
    "    #add fitted polynomial lines to scatterplot \n",
    "    plt.plot(polyline, model1(polyline), color='green', label= 'Funcion grado 1')\n",
    "    plt.plot(polyline, model2(polyline), color='red', label= 'Funcion grado 2')\n",
    "    \n",
    "    \n",
    "    plt.legend()\n",
    "    plt.grid()\n",
    "    plt.show()\n",
    "\n",
    "curvasAjuste()"
   ]
  },
  {
   "cell_type": "code",
   "execution_count": 10,
   "id": "555bab23",
   "metadata": {},
   "outputs": [
    {
     "name": "stdout",
     "output_type": "stream",
     "text": [
      " \n",
      "-0.001884 x + 28.03\n"
     ]
    }
   ],
   "source": [
    "model1 = np.poly1d(np.polyfit(df1.V_pv, df1.I_pv, 1))\n",
    "print(model1)"
   ]
  },
  {
   "cell_type": "code",
   "execution_count": 11,
   "id": "b342e21f",
   "metadata": {},
   "outputs": [],
   "source": [
    "def f1(x):\n",
    "    return -0.001884*x + 28.03"
   ]
  },
  {
   "cell_type": "markdown",
   "id": "0d1e68d4",
   "metadata": {},
   "source": [
    "## Trozo 2"
   ]
  },
  {
   "cell_type": "code",
   "execution_count": 14,
   "id": "cf40eb65",
   "metadata": {},
   "outputs": [
    {
     "name": "stdout",
     "output_type": "stream",
     "text": [
      "{'r_squared': 0.9976003472922175}\n",
      "{'r_squared': 0.9999091579549512}\n"
     ]
    }
   ],
   "source": [
    "df2 = df.iloc[100*1000:125*1000]\n",
    "v = df2.V_pv\n",
    "i = df2.I_pv\n",
    "print(adjR(v, i, 2))\n",
    "print(adjR(v, i, 3))"
   ]
  },
  {
   "cell_type": "code",
   "execution_count": 20,
   "id": "3ae6c1f2",
   "metadata": {},
   "outputs": [
    {
     "data": {
      "image/png": "[encoded data removed]",
      "text/plain": [
       "<Figure size 432x288 with 1 Axes>"
      ]
     },
     "metadata": {
      "needs_background": "light"
     },
     "output_type": "display_data"
    }
   ],
   "source": [
    "def curvasAjuste():\n",
    "    #fit polynomial models \n",
    "    model1 = np.poly1d(np.polyfit(df2.V_pv, df2.I_pv, 2))\n",
    "    model2 = np.poly1d(np.polyfit(df2.V_pv, df2.I_pv, 3))\n",
    "        \n",
    "    #create scatterplot\n",
    "    polyline = np.linspace(100, 125,1000)\n",
    "    plt.scatter(df2.V_pv, df2.I_pv)\n",
    "    \n",
    "    #add fitted polynomial lines to scatterplot \n",
    "    plt.plot(polyline, model1(polyline), color='green', label= 'Funcion grado 2')\n",
    "    plt.plot(polyline, model2(polyline), color='red', label= 'Funcion grado 3')\n",
    "    \n",
    "    \n",
    "    plt.legend()\n",
    "    plt.grid()\n",
    "    plt.show()\n",
    "\n",
    "curvasAjuste()"
   ]
  },
  {
   "cell_type": "code",
   "execution_count": 21,
   "id": "9f27a883",
   "metadata": {},
   "outputs": [
    {
     "name": "stdout",
     "output_type": "stream",
     "text": [
      "            3            2\n",
      "-8.342e-06 x + 0.002565 x - 0.2665 x + 37.18\n"
     ]
    }
   ],
   "source": [
    "model2 = np.poly1d(np.polyfit(df2.V_pv, df2.I_pv, 3))\n",
    "print(model2)"
   ]
  },
  {
   "cell_type": "code",
   "execution_count": 22,
   "id": "b91f106d",
   "metadata": {},
   "outputs": [],
   "source": [
    "def f2(x):\n",
    "    return -8.342e-06*x**3 + 0.002565*x**2 - 0.2665*x + 37.18"
   ]
  },
  {
   "cell_type": "markdown",
   "id": "087be094",
   "metadata": {},
   "source": [
    "## Trozo 3"
   ]
  },
  {
   "cell_type": "code",
   "execution_count": 23,
   "id": "fbfeb7ad",
   "metadata": {},
   "outputs": [
    {
     "name": "stdout",
     "output_type": "stream",
     "text": [
      "{'r_squared': 0.9920242332566584}\n",
      "{'r_squared': 0.9999731571540963}\n"
     ]
    }
   ],
   "source": [
    "df3 = df.iloc[125*1000:175*1000]\n",
    "v = df3.V_pv\n",
    "i = df3.I_pv\n",
    "print(adjR(v, i, 2))\n",
    "print(adjR(v, i, 3))"
   ]
  },
  {
   "cell_type": "code",
   "execution_count": 24,
   "id": "4a09b508",
   "metadata": {},
   "outputs": [
    {
     "data": {
      "image/png": "[encoded data removed]",
      "text/plain": [
       "<Figure size 432x288 with 1 Axes>"
      ]
     },
     "metadata": {
      "needs_background": "light"
     },
     "output_type": "display_data"
    }
   ],
   "source": [
    "def curvasAjuste():\n",
    "    #fit polynomial models \n",
    "    model1 = np.poly1d(np.polyfit(df3.V_pv, df3.I_pv, 2))\n",
    "    model2 = np.poly1d(np.polyfit(df3.V_pv, df3.I_pv, 3))\n",
    "        \n",
    "    #create scatterplot\n",
    "    polyline = np.linspace(125, 175,1000)\n",
    "    plt.scatter(df3.V_pv, df3.I_pv)\n",
    "    \n",
    "    #add fitted polynomial lines to scatterplot \n",
    "    plt.plot(polyline, model1(polyline), color='green', label= 'Funcion grado 2')\n",
    "    plt.plot(polyline, model2(polyline), color='red', label= 'Funcion grado 3')\n",
    "    \n",
    "    \n",
    "    plt.legend()\n",
    "    plt.grid()\n",
    "    plt.show()\n",
    "\n",
    "curvasAjuste()"
   ]
  },
  {
   "cell_type": "code",
   "execution_count": 25,
   "id": "3f0e7407",
   "metadata": {},
   "outputs": [
    {
     "name": "stdout",
     "output_type": "stream",
     "text": [
      "           3           2\n",
      "-0.000139 x + 0.05472 x - 7.214 x + 346\n"
     ]
    }
   ],
   "source": [
    "model3 = np.poly1d(np.polyfit(df3.V_pv, df3.I_pv, 3))\n",
    "print(model3)"
   ]
  },
  {
   "cell_type": "code",
   "execution_count": 26,
   "id": "3e08d254",
   "metadata": {},
   "outputs": [],
   "source": [
    "def f3(x):\n",
    "    return -0.000139*x**3 + 0.05472*x**2 - 7.214*x + 346"
   ]
  },
  {
   "cell_type": "markdown",
   "id": "d8ea84d5",
   "metadata": {},
   "source": [
    "## Trozo 4"
   ]
  },
  {
   "cell_type": "code",
   "execution_count": 28,
   "id": "8398ee98",
   "metadata": {},
   "outputs": [
    {
     "name": "stdout",
     "output_type": "stream",
     "text": [
      "{'r_squared': 0.9963844387102881}\n",
      "{'r_squared': 0.9999843366874855}\n"
     ]
    }
   ],
   "source": [
    "df4 = df.iloc[175*1000:200*1000]\n",
    "v = df4.V_pv\n",
    "i = df4.I_pv\n",
    "print(adjR(v, i, 1))\n",
    "print(adjR(v, i, 2))"
   ]
  },
  {
   "cell_type": "code",
   "execution_count": 30,
   "id": "c9257dd0",
   "metadata": {},
   "outputs": [
    {
     "data": {
      "image/png": "[encoded data removed]",
      "text/plain": [
       "<Figure size 432x288 with 1 Axes>"
      ]
     },
     "metadata": {
      "needs_background": "light"
     },
     "output_type": "display_data"
    }
   ],
   "source": [
    "def curvasAjuste():\n",
    "    #fit polynomial models \n",
    "    model1 = np.poly1d(np.polyfit(df4.V_pv, df4.I_pv, 1))\n",
    "    model2 = np.poly1d(np.polyfit(df4.V_pv, df4.I_pv, 2))\n",
    "        \n",
    "    #create scatterplot\n",
    "    polyline = np.linspace(175, 200,1000)\n",
    "    plt.scatter(df4.V_pv, df4.I_pv)\n",
    "    \n",
    "    #add fitted polynomial lines to scatterplot \n",
    "    plt.plot(polyline, model1(polyline), color='green', label= 'Funcion grado 1')\n",
    "    plt.plot(polyline, model2(polyline), color='red', label= 'Funcion grado 2')\n",
    "    \n",
    "    \n",
    "    plt.legend()\n",
    "    plt.grid()\n",
    "    plt.show()\n",
    "\n",
    "curvasAjuste()"
   ]
  },
  {
   "cell_type": "code",
   "execution_count": 31,
   "id": "49e70798",
   "metadata": {},
   "outputs": [
    {
     "name": "stdout",
     "output_type": "stream",
     "text": [
      "          2\n",
      "-0.01028 x + 2.751 x - 152.2\n"
     ]
    }
   ],
   "source": [
    "model4 = np.poly1d(np.polyfit(df4.V_pv, df4.I_pv, 2))\n",
    "print(model4)"
   ]
  },
  {
   "cell_type": "code",
   "execution_count": 33,
   "id": "9893f924",
   "metadata": {},
   "outputs": [],
   "source": [
    "def f4(x):\n",
    "    return -0.01028*x**2 + 2.751*x - 152.2"
   ]
  },
  {
   "cell_type": "markdown",
   "id": "6f5a7361",
   "metadata": {},
   "source": [
    "## Modelo i(v)"
   ]
  },
  {
   "cell_type": "code",
   "execution_count": 34,
   "id": "1b02e3e0",
   "metadata": {},
   "outputs": [
    {
     "data": {
      "image/png": "[encoded data removed]",
      "text/plain": [
       "<Figure size 432x288 with 1 Axes>"
      ]
     },
     "metadata": {
      "needs_background": "light"
     },
     "output_type": "display_data"
    }
   ],
   "source": [
    "x = np.linspace(0, 200, 1000)\n",
    "y = np.piecewise(x, [ (x <= 100) & (x >= 0), (x <= 125) & (x > 100),(x <= 175) & (x > 125), (x <= 200) & (x > 175)], [lambda x: f1(x), lambda x: f2(x),\n",
    "lambda x: f3(x), lambda x: f4(x)])\n",
    "plt.plot(x, y)\n",
    "#plt.plot(df.V_pv,df.I_pv)\n",
    "plt.grid()\n",
    "plt.show()"
   ]
  },
  {
   "cell_type": "code",
   "execution_count": 36,
   "id": "c240088b",
   "metadata": {},
   "outputs": [
    {
     "name": "stdout",
     "output_type": "stream",
     "text": [
      "La tension del modelo en su PMM es:  26.017870913535944\n",
      "La maxima potencia es :  3896.436348011143\n"
     ]
    }
   ],
   "source": [
    "def p3(x):\n",
    "    return (-0.000139*x**3 + 0.05472*x**2 - 7.214*x + 346)*x\n",
    "print(\"La tension del modelo en su PMM es: \", f3(149.76))\n",
    "print(\"La maxima potencia es : \", p3(149.76))"
   ]
  },
  {
   "cell_type": "markdown",
   "id": "c9cb4759",
   "metadata": {},
   "source": [
    "# Modelo Potencia"
   ]
  },
  {
   "cell_type": "code",
   "execution_count": 41,
   "id": "3bbf98ec",
   "metadata": {},
   "outputs": [
    {
     "name": "stdout",
     "output_type": "stream",
     "text": [
      "{'r_squared': 0.9999965398479903}\n",
      "{'r_squared': 0.9999999830440476}\n"
     ]
    }
   ],
   "source": [
    "df1 = df.iloc[:100*1000]\n",
    "v = df1.V_pv\n",
    "p = df1.P_pv\n",
    "print(adjR(v, p, 1))\n",
    "print(adjR(v, p, 2))"
   ]
  },
  {
   "cell_type": "code",
   "execution_count": 43,
   "id": "98e208dd",
   "metadata": {},
   "outputs": [
    {
     "name": "stdout",
     "output_type": "stream",
     "text": [
      "           2\n",
      "-0.002001 x + 28.04 x - 0.1362\n"
     ]
    }
   ],
   "source": [
    "model1 = np.poly1d(np.polyfit(df1.V_pv, df1.P_pv, 2))\n",
    "print(model1)"
   ]
  },
  {
   "cell_type": "code",
   "execution_count": null,
   "id": "04b7bd6e",
   "metadata": {},
   "outputs": [],
   "source": [
    "def p1(x):\n",
    "    return -0.001884*x + 28.03"
   ]
  }
 ],
 "metadata": {
  "kernelspec": {
   "display_name": "Python 3 (ipykernel)",
   "language": "python",
   "name": "python3"
  },
  "language_info": {
   "codemirror_mode": {
    "name": "ipython",
    "version": 3
   },
   "file_extension": ".py",
   "mimetype": "text/x-python",
   "name": "python",
   "nbconvert_exporter": "python",
   "pygments_lexer": "ipython3",
   "version": "3.9.12"
  }
 },
 "nbformat": 4,
 "nbformat_minor": 5
}
